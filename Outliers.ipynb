{
 "cells": [
  {
   "cell_type": "markdown",
   "id": "4b07a304",
   "metadata": {},
   "source": [
    "## Outliers"
   ]
  },
  {
   "cell_type": "markdown",
   "id": "c368f8cb",
   "metadata": {},
   "source": [
    "Outliers refer to data points that significantly differ from other observations in a dataset. They can occur due to various reasons, such as measurement or input errors, natural variation in data, or rare events. Identifying outliers is important in statistics and data analysis because they can distort statistical analyses and machine learning models if not properly handled."
   ]
  },
  {
   "cell_type": "markdown",
   "id": "f7e26760",
   "metadata": {},
   "source": [
    "### Should outliers be removed?\n",
    "Depending on the context, outliers either deserve special attention or should be completely ignored. Take the example of revenue forecasting: if unusual spikes of revenue are observed, it's probably a good idea to pay extra attention to them and figure out what caused the spike. In the same way, an unusual transaction on a credit card is usually a sign of fraudulent activity, which is what the credit card issuer wants to prevent. So in instances like these, it is useful to look for and investigate further outlier values.\n",
    "\n",
    "If outliers are however, due to mechanical error, measurement error or anything else that can't be generalised, it’s a good idea to filter out these outliers before feeding the data to the modeling algorithm."
   ]
  },
  {
   "cell_type": "markdown",
   "id": "cc2b3d5d",
   "metadata": {},
   "source": [
    "### Which machine learning models are sensitive to outliers?\n",
    "Some machine learning models are more sensitive to outliers than others. For instance, AdaBoost may treat outliers as \"hard\" cases and put tremendous weights on outliers, therefore producing a model with bad generalisation.\n",
    "\n",
    "Decision trees tend to ignore the presence of outliers when creating the branches of their trees. Typically, trees make decisions by asking if variable x >= value t, and therefore the outlier will fall on each end of the branch, but it will be treated equally than the remaining values, regardless of its magnitude.\n",
    "\n",
    "Linear models, in particular Linear Regression, can be sensitive to outliers.\n",
    "\n",
    "A recent research article suggests that Neural Networks could also be sensitive to outliers, provided the number of outliers is high and the deviation is also high."
   ]
  },
  {
   "cell_type": "markdown",
   "id": "a1bd2ad7",
   "metadata": {},
   "source": [
    "## Extreme Value Analysis\n",
    "The most basic form of outlier detection is Extreme Value Analysis of 1-dimensional data. The key for this method is to determine the statistical tails of the underlying distribution of the variable, and then finding the values that sit at the very end of the tails.\n",
    "\n",
    "In the typical scenario, the distribution of the variable is Gaussian and thus outliers will lie outside the mean plus or minus 3 times the standard deviation of the variable.\n",
    "\n",
    "If the variable is not normally distributed, a general approach is to calculate the quantiles, and then the interquantile range (IQR), as follows:\n",
    "\n",
    "IQR = 75th quantile - 25th quantile\n",
    "\n",
    "An outlier will sit outside the following upper and lower boundaries:\n",
    "\n",
    "Upper boundary = 75th quantile + (IQR * 1.5)\n",
    "\n",
    "Lower boundary = 25th quantile - (IQR * 1.5)\n",
    "\n",
    "or for extreme cases:\n",
    "\n",
    "Upper boundary = 75th quantile + (IQR * 3)\n",
    "\n",
    "Lower boundary = 25th quantile - (IQR * 3)"
   ]
  },
  {
   "cell_type": "code",
   "execution_count": 2,
   "id": "9c7a3595",
   "metadata": {},
   "outputs": [],
   "source": [
    "import pandas as pd\n",
    "import numpy as np\n",
    "\n",
    "import matplotlib.pyplot as plt\n",
    "%matplotlib inline\n",
    "\n",
    "# to display the total number columns present in the dataset\n",
    "pd.set_option('display.max_columns', None)"
   ]
  },
  {
   "cell_type": "code",
   "execution_count": 3,
   "id": "ed53f220",
   "metadata": {},
   "outputs": [
    {
     "data": {
      "text/html": [
       "<div>\n",
       "<style scoped>\n",
       "    .dataframe tbody tr th:only-of-type {\n",
       "        vertical-align: middle;\n",
       "    }\n",
       "\n",
       "    .dataframe tbody tr th {\n",
       "        vertical-align: top;\n",
       "    }\n",
       "\n",
       "    .dataframe thead th {\n",
       "        text-align: right;\n",
       "    }\n",
       "</style>\n",
       "<table border=\"1\" class=\"dataframe\">\n",
       "  <thead>\n",
       "    <tr style=\"text-align: right;\">\n",
       "      <th></th>\n",
       "      <th>PassengerId</th>\n",
       "      <th>Survived</th>\n",
       "      <th>Pclass</th>\n",
       "      <th>Name</th>\n",
       "      <th>Sex</th>\n",
       "      <th>Age</th>\n",
       "      <th>SibSp</th>\n",
       "      <th>Parch</th>\n",
       "      <th>Ticket</th>\n",
       "      <th>Fare</th>\n",
       "      <th>Cabin</th>\n",
       "      <th>Embarked</th>\n",
       "    </tr>\n",
       "  </thead>\n",
       "  <tbody>\n",
       "    <tr>\n",
       "      <th>0</th>\n",
       "      <td>1</td>\n",
       "      <td>0</td>\n",
       "      <td>3</td>\n",
       "      <td>Braund, Mr. Owen Harris</td>\n",
       "      <td>male</td>\n",
       "      <td>22.0</td>\n",
       "      <td>1</td>\n",
       "      <td>0</td>\n",
       "      <td>A/5 21171</td>\n",
       "      <td>7.2500</td>\n",
       "      <td>NaN</td>\n",
       "      <td>S</td>\n",
       "    </tr>\n",
       "    <tr>\n",
       "      <th>1</th>\n",
       "      <td>2</td>\n",
       "      <td>1</td>\n",
       "      <td>1</td>\n",
       "      <td>Cumings, Mrs. John Bradley (Florence Briggs Th...</td>\n",
       "      <td>female</td>\n",
       "      <td>38.0</td>\n",
       "      <td>1</td>\n",
       "      <td>0</td>\n",
       "      <td>PC 17599</td>\n",
       "      <td>71.2833</td>\n",
       "      <td>C85</td>\n",
       "      <td>C</td>\n",
       "    </tr>\n",
       "    <tr>\n",
       "      <th>2</th>\n",
       "      <td>3</td>\n",
       "      <td>1</td>\n",
       "      <td>3</td>\n",
       "      <td>Heikkinen, Miss. Laina</td>\n",
       "      <td>female</td>\n",
       "      <td>26.0</td>\n",
       "      <td>0</td>\n",
       "      <td>0</td>\n",
       "      <td>STON/O2. 3101282</td>\n",
       "      <td>7.9250</td>\n",
       "      <td>NaN</td>\n",
       "      <td>S</td>\n",
       "    </tr>\n",
       "    <tr>\n",
       "      <th>3</th>\n",
       "      <td>4</td>\n",
       "      <td>1</td>\n",
       "      <td>1</td>\n",
       "      <td>Futrelle, Mrs. Jacques Heath (Lily May Peel)</td>\n",
       "      <td>female</td>\n",
       "      <td>35.0</td>\n",
       "      <td>1</td>\n",
       "      <td>0</td>\n",
       "      <td>113803</td>\n",
       "      <td>53.1000</td>\n",
       "      <td>C123</td>\n",
       "      <td>S</td>\n",
       "    </tr>\n",
       "    <tr>\n",
       "      <th>4</th>\n",
       "      <td>5</td>\n",
       "      <td>0</td>\n",
       "      <td>3</td>\n",
       "      <td>Allen, Mr. William Henry</td>\n",
       "      <td>male</td>\n",
       "      <td>35.0</td>\n",
       "      <td>0</td>\n",
       "      <td>0</td>\n",
       "      <td>373450</td>\n",
       "      <td>8.0500</td>\n",
       "      <td>NaN</td>\n",
       "      <td>S</td>\n",
       "    </tr>\n",
       "  </tbody>\n",
       "</table>\n",
       "</div>"
      ],
      "text/plain": [
       "   PassengerId  Survived  Pclass  \\\n",
       "0            1         0       3   \n",
       "1            2         1       1   \n",
       "2            3         1       3   \n",
       "3            4         1       1   \n",
       "4            5         0       3   \n",
       "\n",
       "                                                Name     Sex   Age  SibSp  \\\n",
       "0                            Braund, Mr. Owen Harris    male  22.0      1   \n",
       "1  Cumings, Mrs. John Bradley (Florence Briggs Th...  female  38.0      1   \n",
       "2                             Heikkinen, Miss. Laina  female  26.0      0   \n",
       "3       Futrelle, Mrs. Jacques Heath (Lily May Peel)  female  35.0      1   \n",
       "4                           Allen, Mr. William Henry    male  35.0      0   \n",
       "\n",
       "   Parch            Ticket     Fare Cabin Embarked  \n",
       "0      0         A/5 21171   7.2500   NaN        S  \n",
       "1      0          PC 17599  71.2833   C85        C  \n",
       "2      0  STON/O2. 3101282   7.9250   NaN        S  \n",
       "3      0            113803  53.1000  C123        S  \n",
       "4      0            373450   8.0500   NaN        S  "
      ]
     },
     "execution_count": 3,
     "metadata": {},
     "output_type": "execute_result"
    }
   ],
   "source": [
    "data = pd.read_csv('train.csv')\n",
    "data.head()"
   ]
  },
  {
   "cell_type": "code",
   "execution_count": 4,
   "id": "7c928e5e",
   "metadata": {},
   "outputs": [],
   "source": [
    "import seaborn as sns"
   ]
  },
  {
   "cell_type": "code",
   "execution_count": 5,
   "id": "117fd526",
   "metadata": {},
   "outputs": [
    {
     "name": "stderr",
     "output_type": "stream",
     "text": [
      "C:\\Users\\DEVI\\anaconda3\\lib\\site-packages\\seaborn\\distributions.py:2619: FutureWarning: `distplot` is a deprecated function and will be removed in a future version. Please adapt your code to use either `displot` (a figure-level function with similar flexibility) or `histplot` (an axes-level function for histograms).\n",
      "  warnings.warn(msg, FutureWarning)\n"
     ]
    },
    {
     "data": {
      "text/plain": [
       "<AxesSubplot:xlabel='Age', ylabel='Density'>"
      ]
     },
     "execution_count": 5,
     "metadata": {},
     "output_type": "execute_result"
    },
    {
     "data": {
      "image/png": "[encoded data removed]",
      "text/plain": [
       "<Figure size 432x288 with 1 Axes>"
      ]
     },
     "metadata": {
      "needs_background": "light"
     },
     "output_type": "display_data"
    }
   ],
   "source": [
    "sns.distplot(data.Age.fillna(95))"
   ]
  },
  {
   "cell_type": "markdown",
   "id": "55d520ee",
   "metadata": {},
   "source": [
    "There are 2 numerical variables in this dataset, Fare and Age. So let's go ahead and find out whether they present values that we could consider outliers."
   ]
  },
  {
   "cell_type": "markdown",
   "id": "d187a2ed",
   "metadata": {},
   "source": [
    "### FARE"
   ]
  },
  {
   "cell_type": "code",
   "execution_count": 6,
   "id": "6b48cadd",
   "metadata": {},
   "outputs": [
    {
     "data": {
      "text/plain": [
       "Text(0, 0.5, 'Number of Passengers')"
      ]
     },
     "execution_count": 6,
     "metadata": {},
     "output_type": "execute_result"
    },
    {
     "data": {
      "image/png": "[encoded data removed]",
      "text/plain": [
       "<Figure size 432x288 with 1 Axes>"
      ]
     },
     "metadata": {
      "needs_background": "light"
     },
     "output_type": "display_data"
    }
   ],
   "source": [
    "# First let's plot a histogram to get an idea of the distribution\n",
    "\n",
    "fig = data.Fare.hist(bins=50)\n",
    "fig.set_title('Fare Distribution')\n",
    "fig.set_xlabel('Fare')\n",
    "fig.set_ylabel('Number of Passengers')"
   ]
  },
  {
   "cell_type": "code",
   "execution_count": 7,
   "id": "4750f46a",
   "metadata": {},
   "outputs": [
    {
     "data": {
      "text/plain": [
       "Text(0, 0.5, 'Fare')"
      ]
     },
     "execution_count": 7,
     "metadata": {},
     "output_type": "execute_result"
    },
    {
     "data": {
      "image/png": "[encoded data removed]",
      "text/plain": [
       "<Figure size 432x288 with 1 Axes>"
      ]
     },
     "metadata": {
      "needs_background": "light"
     },
     "output_type": "display_data"
    }
   ],
   "source": [
    "# another way of visualising outliers is using boxplots and whiskers,\n",
    "# which provides the quantiles (box) and inter-quantile range (whiskers),\n",
    "# with the outliers sitting outside the error bars (whiskers).\n",
    "\n",
    "# All the dots in the plot below are outliers according to the quantiles + 1.5 IQR rule\n",
    "\n",
    "fig = data.boxplot(column='Fare')\n",
    "fig.set_title('')\n",
    "fig.set_xlabel('Survived')\n",
    "fig.set_ylabel('Fare')"
   ]
  },
  {
   "cell_type": "code",
   "execution_count": 8,
   "id": "242d1cb6",
   "metadata": {},
   "outputs": [
    {
     "data": {
      "text/plain": [
       "count    891.000000\n",
       "mean      32.204208\n",
       "std       49.693429\n",
       "min        0.000000\n",
       "25%        7.910400\n",
       "50%       14.454200\n",
       "75%       31.000000\n",
       "max      512.329200\n",
       "Name: Fare, dtype: float64"
      ]
     },
     "execution_count": 8,
     "metadata": {},
     "output_type": "execute_result"
    }
   ],
   "source": [
    "# let's look at the values of the quantiles so we can\n",
    "# calculate the upper and lower boundaries for the outliers\n",
    "\n",
    "# 25%, 50% and 75% in the output below indicate the\n",
    "# 25th quantile, median and 75th quantile respectively\n",
    "\n",
    "data.Fare.describe()"
   ]
  },
  {
   "cell_type": "code",
   "execution_count": 9,
   "id": "283b84d6",
   "metadata": {},
   "outputs": [
    {
     "data": {
      "text/plain": [
       "(65.6344, -26.724, 23.0896)"
      ]
     },
     "execution_count": 9,
     "metadata": {},
     "output_type": "execute_result"
    }
   ],
   "source": [
    "IQR = data.Fare.quantile(0.75) - data.Fare.quantile(0.25)\n",
    "\n",
    "Lower_fence = data.Fare.quantile(0.25) - (IQR * 1.5)\n",
    "Upper_fence = data.Fare.quantile(0.75) + (IQR * 1.5)\n",
    "\n",
    "Upper_fence, Lower_fence, IQR"
   ]
  },
  {
   "cell_type": "code",
   "execution_count": 10,
   "id": "aa51aae1",
   "metadata": {},
   "outputs": [
    {
     "data": {
      "text/plain": [
       "(100.2688, -61.358399999999996, 23.0896)"
      ]
     },
     "execution_count": 10,
     "metadata": {},
     "output_type": "execute_result"
    }
   ],
   "source": [
    "# And if we are looking at really extreme values\n",
    "# using the interquantile proximity rule\n",
    "\n",
    "IQR = data.Fare.quantile(0.75) - data.Fare.quantile(0.25)\n",
    "\n",
    "Lower_fence = data.Fare.quantile(0.25) - (IQR * 3)\n",
    "Upper_fence = data.Fare.quantile(0.75) + (IQR * 3)\n",
    "\n",
    "Upper_fence, Lower_fence, IQR"
   ]
  },
  {
   "cell_type": "markdown",
   "id": "d2ea0f8f",
   "metadata": {},
   "source": [
    "The upper boundary for extreme outliers is a cost of 100 dollars for the Fare. The lower boundary is meaningless because there can't be a negative price for Fare."
   ]
  },
  {
   "cell_type": "code",
   "execution_count": 11,
   "id": "e04fcac2",
   "metadata": {},
   "outputs": [
    {
     "name": "stdout",
     "output_type": "stream",
     "text": [
      "total passengers: 891\n",
      "passengers that paid more than 65: 116\n",
      "Passengers that paid more than 100: 53\n"
     ]
    }
   ],
   "source": [
    "# lets look at the actual number of passengers on the upper Fare ranges\n",
    "\n",
    "print('total passengers: {}'.format(data.shape[0]))\n",
    "\n",
    "print('passengers that paid more than 65: {}'.format(\n",
    "    data[data.Fare > 65].shape[0]))\n",
    "\n",
    "print(\"Passengers that paid more than 100: {}\".format(data[data.Fare>100].shape[0]))"
   ]
  },
  {
   "cell_type": "code",
   "execution_count": 12,
   "id": "ed6c62e1",
   "metadata": {},
   "outputs": [
    {
     "name": "stdout",
     "output_type": "stream",
     "text": [
      "total passengers: 1.0\n",
      "passengers that paid more than 65: 0.13019079685746351\n",
      "passengers that paid more than 100: 0.05948372615039282\n"
     ]
    },
    {
     "name": "stderr",
     "output_type": "stream",
     "text": [
      "C:\\Users\\DEVI\\AppData\\Local\\Temp/ipykernel_41376/1121584186.py:2: DeprecationWarning: `np.float` is a deprecated alias for the builtin `float`. To silence this warning, use `float` by itself. Doing this will not modify any behavior and is safe. If you specifically wanted the numpy scalar type, use `np.float64` here.\n",
      "Deprecated in NumPy 1.20; for more details and guidance: https://numpy.org/devdocs/release/1.20.0-notes.html#deprecations\n",
      "  total_passengers = np.float(data.shape[0])\n"
     ]
    }
   ],
   "source": [
    "# and percentages of passengers\n",
    "total_passengers = np.float(data.shape[0])\n",
    "\n",
    "print('total passengers: {}'.format(data.shape[0] / total_passengers))\n",
    "\n",
    "print('passengers that paid more than 65: {}'.format(\n",
    "    data[data.Fare > 65].shape[0] / total_passengers))\n",
    "\n",
    "print('passengers that paid more than 100: {}'.format(\n",
    "    data[data.Fare > 100].shape[0] / total_passengers))"
   ]
  },
  {
   "cell_type": "markdown",
   "id": "be04f524",
   "metadata": {},
   "source": [
    "When using the 3 times interquantile range interval to find outliers, we find that 6% of the passengers have paid extremely high fares. We can go ahead and investigate the nature of this outliers."
   ]
  },
  {
   "cell_type": "code",
   "execution_count": 13,
   "id": "cdffac21",
   "metadata": {},
   "outputs": [
    {
     "data": {
      "text/plain": [
       "Ticket\n",
       "113503      1\n",
       "113760      4\n",
       "113781      4\n",
       "16966       2\n",
       "17421       4\n",
       "19950       4\n",
       "24160       3\n",
       "35273       3\n",
       "36928       2\n",
       "PC 17483    1\n",
       "PC 17558    2\n",
       "PC 17569    2\n",
       "PC 17582    3\n",
       "PC 17608    2\n",
       "PC 17611    2\n",
       "PC 17755    3\n",
       "PC 17757    4\n",
       "PC 17758    2\n",
       "PC 17760    3\n",
       "PC 17761    2\n",
       "Name: Fare, dtype: int64"
      ]
     },
     "execution_count": 13,
     "metadata": {},
     "output_type": "execute_result"
    }
   ],
   "source": [
    "# let's create a separate dataframe for high fare payers\n",
    "high_fare_df = data[data.Fare>100]\n",
    "\n",
    "# ticket: it indicates the people that bought their fares together\n",
    "high_fare_df.groupby('Ticket')['Fare'].count()"
   ]
  },
  {
   "cell_type": "markdown",
   "id": "6146e6bb",
   "metadata": {},
   "source": [
    "A group of people who bought their tickets together, say they were a family, would have the same ticket number. And the fare attached to them is no longer the individual Fare, rather the group Fare. This is why, we see this unusually high values:"
   ]
  },
  {
   "cell_type": "code",
   "execution_count": 14,
   "id": "a0ec108d",
   "metadata": {},
   "outputs": [
    {
     "data": {
      "text/html": [
       "<div>\n",
       "<style scoped>\n",
       "    .dataframe tbody tr th:only-of-type {\n",
       "        vertical-align: middle;\n",
       "    }\n",
       "\n",
       "    .dataframe tbody tr th {\n",
       "        vertical-align: top;\n",
       "    }\n",
       "\n",
       "    .dataframe thead th {\n",
       "        text-align: right;\n",
       "    }\n",
       "</style>\n",
       "<table border=\"1\" class=\"dataframe\">\n",
       "  <thead>\n",
       "    <tr style=\"text-align: right;\">\n",
       "      <th></th>\n",
       "      <th>Ticket</th>\n",
       "      <th>Fare</th>\n",
       "    </tr>\n",
       "    <tr>\n",
       "      <th>Ticket</th>\n",
       "      <th></th>\n",
       "      <th></th>\n",
       "    </tr>\n",
       "  </thead>\n",
       "  <tbody>\n",
       "    <tr>\n",
       "      <th>113503</th>\n",
       "      <td>1</td>\n",
       "      <td>211.5000</td>\n",
       "    </tr>\n",
       "    <tr>\n",
       "      <th>113760</th>\n",
       "      <td>4</td>\n",
       "      <td>120.0000</td>\n",
       "    </tr>\n",
       "    <tr>\n",
       "      <th>113781</th>\n",
       "      <td>4</td>\n",
       "      <td>151.5500</td>\n",
       "    </tr>\n",
       "    <tr>\n",
       "      <th>16966</th>\n",
       "      <td>2</td>\n",
       "      <td>134.5000</td>\n",
       "    </tr>\n",
       "    <tr>\n",
       "      <th>17421</th>\n",
       "      <td>4</td>\n",
       "      <td>110.8833</td>\n",
       "    </tr>\n",
       "    <tr>\n",
       "      <th>19950</th>\n",
       "      <td>4</td>\n",
       "      <td>263.0000</td>\n",
       "    </tr>\n",
       "    <tr>\n",
       "      <th>24160</th>\n",
       "      <td>3</td>\n",
       "      <td>211.3375</td>\n",
       "    </tr>\n",
       "    <tr>\n",
       "      <th>35273</th>\n",
       "      <td>3</td>\n",
       "      <td>113.2750</td>\n",
       "    </tr>\n",
       "    <tr>\n",
       "      <th>36928</th>\n",
       "      <td>2</td>\n",
       "      <td>164.8667</td>\n",
       "    </tr>\n",
       "    <tr>\n",
       "      <th>PC 17483</th>\n",
       "      <td>1</td>\n",
       "      <td>221.7792</td>\n",
       "    </tr>\n",
       "  </tbody>\n",
       "</table>\n",
       "</div>"
      ],
      "text/plain": [
       "          Ticket      Fare\n",
       "Ticket                    \n",
       "113503         1  211.5000\n",
       "113760         4  120.0000\n",
       "113781         4  151.5500\n",
       "16966          2  134.5000\n",
       "17421          4  110.8833\n",
       "19950          4  263.0000\n",
       "24160          3  211.3375\n",
       "35273          3  113.2750\n",
       "36928          2  164.8667\n",
       "PC 17483       1  221.7792"
      ]
     },
     "execution_count": 14,
     "metadata": {},
     "output_type": "execute_result"
    }
   ],
   "source": [
    "multiple_tickets = pd.concat(\n",
    "    [\n",
    "        high_fare_df.groupby('Ticket')['Fare'].count(),\n",
    "        high_fare_df.groupby('Ticket')['Fare'].mean()\n",
    "    ],\n",
    "    axis=1)\n",
    "\n",
    "multiple_tickets.columns = ['Ticket', 'Fare']\n",
    "multiple_tickets.head(10)"
   ]
  },
  {
   "cell_type": "markdown",
   "id": "6ad35a57",
   "metadata": {},
   "source": [
    "Therefore, the fare should be divided by the number of tickets bought together to find out the individual price. So we see how finding out and investigating the presence of outliers, can lead us to new insight about the dataset at hand."
   ]
  },
  {
   "cell_type": "code",
   "execution_count": 15,
   "id": "c98425e5",
   "metadata": {},
   "outputs": [
    {
     "data": {
      "text/html": [
       "<div>\n",
       "<style scoped>\n",
       "    .dataframe tbody tr th:only-of-type {\n",
       "        vertical-align: middle;\n",
       "    }\n",
       "\n",
       "    .dataframe tbody tr th {\n",
       "        vertical-align: top;\n",
       "    }\n",
       "\n",
       "    .dataframe thead th {\n",
       "        text-align: right;\n",
       "    }\n",
       "</style>\n",
       "<table border=\"1\" class=\"dataframe\">\n",
       "  <thead>\n",
       "    <tr style=\"text-align: right;\">\n",
       "      <th></th>\n",
       "      <th>PassengerId</th>\n",
       "      <th>Survived</th>\n",
       "      <th>Pclass</th>\n",
       "      <th>Name</th>\n",
       "      <th>Sex</th>\n",
       "      <th>Age</th>\n",
       "      <th>SibSp</th>\n",
       "      <th>Parch</th>\n",
       "      <th>Ticket</th>\n",
       "      <th>Fare</th>\n",
       "      <th>Cabin</th>\n",
       "      <th>Embarked</th>\n",
       "    </tr>\n",
       "  </thead>\n",
       "  <tbody>\n",
       "    <tr>\n",
       "      <th>258</th>\n",
       "      <td>259</td>\n",
       "      <td>1</td>\n",
       "      <td>1</td>\n",
       "      <td>Ward, Miss. Anna</td>\n",
       "      <td>female</td>\n",
       "      <td>35.0</td>\n",
       "      <td>0</td>\n",
       "      <td>0</td>\n",
       "      <td>PC 17755</td>\n",
       "      <td>512.3292</td>\n",
       "      <td>NaN</td>\n",
       "      <td>C</td>\n",
       "    </tr>\n",
       "    <tr>\n",
       "      <th>679</th>\n",
       "      <td>680</td>\n",
       "      <td>1</td>\n",
       "      <td>1</td>\n",
       "      <td>Cardeza, Mr. Thomas Drake Martinez</td>\n",
       "      <td>male</td>\n",
       "      <td>36.0</td>\n",
       "      <td>0</td>\n",
       "      <td>1</td>\n",
       "      <td>PC 17755</td>\n",
       "      <td>512.3292</td>\n",
       "      <td>B51 B53 B55</td>\n",
       "      <td>C</td>\n",
       "    </tr>\n",
       "    <tr>\n",
       "      <th>737</th>\n",
       "      <td>738</td>\n",
       "      <td>1</td>\n",
       "      <td>1</td>\n",
       "      <td>Lesurer, Mr. Gustave J</td>\n",
       "      <td>male</td>\n",
       "      <td>35.0</td>\n",
       "      <td>0</td>\n",
       "      <td>0</td>\n",
       "      <td>PC 17755</td>\n",
       "      <td>512.3292</td>\n",
       "      <td>B101</td>\n",
       "      <td>C</td>\n",
       "    </tr>\n",
       "  </tbody>\n",
       "</table>\n",
       "</div>"
      ],
      "text/plain": [
       "     PassengerId  Survived  Pclass                                Name  \\\n",
       "258          259         1       1                    Ward, Miss. Anna   \n",
       "679          680         1       1  Cardeza, Mr. Thomas Drake Martinez   \n",
       "737          738         1       1              Lesurer, Mr. Gustave J   \n",
       "\n",
       "        Sex   Age  SibSp  Parch    Ticket      Fare        Cabin Embarked  \n",
       "258  female  35.0      0      0  PC 17755  512.3292          NaN        C  \n",
       "679    male  36.0      0      1  PC 17755  512.3292  B51 B53 B55        C  \n",
       "737    male  35.0      0      0  PC 17755  512.3292         B101        C  "
      ]
     },
     "execution_count": 15,
     "metadata": {},
     "output_type": "execute_result"
    }
   ],
   "source": [
    "# let's have a look at the most extreme outliers\n",
    "data[data.Fare>300]"
   ]
  },
  {
   "cell_type": "markdown",
   "id": "bc528f80",
   "metadata": {},
   "source": [
    "These three people have the same ticket number, indicating that they were travelling together. The Fare price in this case, 512 is the price of 3 tickets, and not one. This is why, it is unusually high."
   ]
  },
  {
   "cell_type": "markdown",
   "id": "d44795da",
   "metadata": {},
   "source": [
    "## AGE"
   ]
  },
  {
   "cell_type": "code",
   "execution_count": 16,
   "id": "50ff11dc",
   "metadata": {},
   "outputs": [
    {
     "data": {
      "text/plain": [
       "Text(0, 0.5, 'Number of Passengers')"
      ]
     },
     "execution_count": 16,
     "metadata": {},
     "output_type": "execute_result"
    },
    {
     "data": {
      "image/png": "[encoded data removed]",
      "text/plain": [
       "<Figure size 432x288 with 1 Axes>"
      ]
     },
     "metadata": {
      "needs_background": "light"
     },
     "output_type": "display_data"
    }
   ],
   "source": [
    "# First let's plot the histogram to get an idea of the distribution\n",
    "\n",
    "fig = data.Age.hist(bins=50)\n",
    "fig.set_title('Age Distribution')\n",
    "fig.set_xlabel('Age')\n",
    "fig.set_ylabel('Number of Passengers')"
   ]
  },
  {
   "cell_type": "code",
   "execution_count": 17,
   "id": "0212bbcc",
   "metadata": {},
   "outputs": [
    {
     "data": {
      "text/plain": [
       "Text(0, 0.5, 'Age')"
      ]
     },
     "execution_count": 17,
     "metadata": {},
     "output_type": "execute_result"
    },
    {
     "data": {
      "image/png": "[encoded data removed]",
      "text/plain": [
       "<Figure size 432x288 with 1 Axes>"
      ]
     },
     "metadata": {
      "needs_background": "light"
     },
     "output_type": "display_data"
    }
   ],
   "source": [
    "# now let's plot the boxplots and whiskers to visualise\n",
    "# outliers\n",
    "\n",
    "# remember that the dots in the plot indicate outliers,\n",
    "# the box the interquantile range, and the whikers the \n",
    "# range IQR + or - 1.5 times the quantiles\n",
    "\n",
    "fig = data.boxplot(column='Age')\n",
    "fig.set_title('')\n",
    "fig.set_xlabel('Survived')\n",
    "fig.set_ylabel('Age')"
   ]
  },
  {
   "cell_type": "code",
   "execution_count": 18,
   "id": "17e638e9",
   "metadata": {},
   "outputs": [
    {
     "data": {
      "text/plain": [
       "count    714.000000\n",
       "mean      29.699118\n",
       "std       14.526497\n",
       "min        0.420000\n",
       "25%       20.125000\n",
       "50%       28.000000\n",
       "75%       38.000000\n",
       "max       80.000000\n",
       "Name: Age, dtype: float64"
      ]
     },
     "execution_count": 18,
     "metadata": {},
     "output_type": "execute_result"
    }
   ],
   "source": [
    "data.Age.describe()"
   ]
  },
  {
   "cell_type": "code",
   "execution_count": 19,
   "id": "249328f7",
   "metadata": {},
   "outputs": [
    {
     "data": {
      "text/plain": [
       "(73.27860964406095, -13.88037434994331)"
      ]
     },
     "execution_count": 19,
     "metadata": {},
     "output_type": "execute_result"
    }
   ],
   "source": [
    "Upper_boundary = data.Age.mean() + 3* data.Age.std()\n",
    "Lower_boundary = data.Age.mean() - 3* data.Age.std()\n",
    "\n",
    "Upper_boundary, Lower_boundary"
   ]
  },
  {
   "cell_type": "markdown",
   "id": "f6a5819f",
   "metadata": {},
   "source": [
    "The upper boundary for Age is 73-74 years. The lower boundary is meaningless as there can't be negative age. This value could be generated due to the lack of normality of the data."
   ]
  },
  {
   "cell_type": "code",
   "execution_count": 20,
   "id": "7c1908e0",
   "metadata": {},
   "outputs": [
    {
     "data": {
      "text/plain": [
       "(64.8125, -6.6875, 17.875)"
      ]
     },
     "execution_count": 20,
     "metadata": {},
     "output_type": "execute_result"
    }
   ],
   "source": [
    "# now let's use the interquantile range to calculate the boundaries\n",
    "\n",
    "IQR = data.Age.quantile(0.75) - data.Age.quantile(0.25)\n",
    "\n",
    "Lower_fence = data.Age.quantile(0.25) - (IQR * 1.5)\n",
    "Upper_fence = data.Age.quantile(0.75) + (IQR * 1.5)\n",
    "\n",
    "Upper_fence, Lower_fence, IQR"
   ]
  },
  {
   "cell_type": "code",
   "execution_count": 21,
   "id": "51749c55",
   "metadata": {},
   "outputs": [
    {
     "data": {
      "text/plain": [
       "(91.625, -33.5, 17.875)"
      ]
     },
     "execution_count": 21,
     "metadata": {},
     "output_type": "execute_result"
    }
   ],
   "source": [
    "# and for extreme outliers\n",
    "\n",
    "IQR = data.Age.quantile(0.75) - data.Age.quantile(0.25)\n",
    "\n",
    "Lower_fence = data.Age.quantile(0.25) - (IQR * 3)\n",
    "Upper_fence = data.Age.quantile(0.75) + (IQR * 3)\n",
    "\n",
    "Upper_fence, Lower_fence, IQR"
   ]
  },
  {
   "cell_type": "markdown",
   "id": "f1bb1b75",
   "metadata": {},
   "source": [
    "The boundary using 1.5 times the interquantile range coincides roughly with the boundary determined using the Gaussian distribution (64 vs 71 years). The value using the 3 times the interquantile is a bit high according to normal human life expectancy, particularly in the days of the Titanic."
   ]
  },
  {
   "cell_type": "code",
   "execution_count": 22,
   "id": "0863e414",
   "metadata": {},
   "outputs": [
    {
     "name": "stdout",
     "output_type": "stream",
     "text": [
      "passengers older than 73 (Gaussian approach): 0.0028011204481792717\n",
      "passengers older than 65 (IQR): 0.011204481792717087\n",
      "passengers older than 91 (IQR, extreme): 0.0\n"
     ]
    },
    {
     "name": "stderr",
     "output_type": "stream",
     "text": [
      "C:\\Users\\DEVI\\AppData\\Local\\Temp/ipykernel_41376/2798391666.py:3: DeprecationWarning: `np.float` is a deprecated alias for the builtin `float`. To silence this warning, use `float` by itself. Doing this will not modify any behavior and is safe. If you specifically wanted the numpy scalar type, use `np.float64` here.\n",
      "Deprecated in NumPy 1.20; for more details and guidance: https://numpy.org/devdocs/release/1.20.0-notes.html#deprecations\n",
      "  total_passengers = np.float(data.shape[0])\n"
     ]
    }
   ],
   "source": [
    "data = data.dropna(subset=['Age'])\n",
    "\n",
    "total_passengers = np.float(data.shape[0])\n",
    "\n",
    "print('passengers older than 73 (Gaussian approach): {}'.format(\n",
    "    data[data.Age > 73].shape[0] / total_passengers))\n",
    "\n",
    "print('passengers older than 65 (IQR): {}'.format(\n",
    "    data[data.Age > 65].shape[0] / total_passengers))\n",
    "\n",
    "print('passengers older than 91 (IQR, extreme): {}'.format(\n",
    "    data[data.Age >= 91].shape[0] / total_passengers))"
   ]
  },
  {
   "cell_type": "markdown",
   "id": "858663b2",
   "metadata": {},
   "source": [
    "Roughly ~1-2 percent of the passengers were extremely old."
   ]
  },
  {
   "cell_type": "code",
   "execution_count": 23,
   "id": "c41fe5f9",
   "metadata": {},
   "outputs": [
    {
     "data": {
      "text/html": [
       "<div>\n",
       "<style scoped>\n",
       "    .dataframe tbody tr th:only-of-type {\n",
       "        vertical-align: middle;\n",
       "    }\n",
       "\n",
       "    .dataframe tbody tr th {\n",
       "        vertical-align: top;\n",
       "    }\n",
       "\n",
       "    .dataframe thead th {\n",
       "        text-align: right;\n",
       "    }\n",
       "</style>\n",
       "<table border=\"1\" class=\"dataframe\">\n",
       "  <thead>\n",
       "    <tr style=\"text-align: right;\">\n",
       "      <th></th>\n",
       "      <th>PassengerId</th>\n",
       "      <th>Survived</th>\n",
       "      <th>Pclass</th>\n",
       "      <th>Name</th>\n",
       "      <th>Sex</th>\n",
       "      <th>Age</th>\n",
       "      <th>SibSp</th>\n",
       "      <th>Parch</th>\n",
       "      <th>Ticket</th>\n",
       "      <th>Fare</th>\n",
       "      <th>Cabin</th>\n",
       "      <th>Embarked</th>\n",
       "    </tr>\n",
       "  </thead>\n",
       "  <tbody>\n",
       "    <tr>\n",
       "      <th>33</th>\n",
       "      <td>34</td>\n",
       "      <td>0</td>\n",
       "      <td>2</td>\n",
       "      <td>Wheadon, Mr. Edward H</td>\n",
       "      <td>male</td>\n",
       "      <td>66.0</td>\n",
       "      <td>0</td>\n",
       "      <td>0</td>\n",
       "      <td>C.A. 24579</td>\n",
       "      <td>10.5000</td>\n",
       "      <td>NaN</td>\n",
       "      <td>S</td>\n",
       "    </tr>\n",
       "    <tr>\n",
       "      <th>96</th>\n",
       "      <td>97</td>\n",
       "      <td>0</td>\n",
       "      <td>1</td>\n",
       "      <td>Goldschmidt, Mr. George B</td>\n",
       "      <td>male</td>\n",
       "      <td>71.0</td>\n",
       "      <td>0</td>\n",
       "      <td>0</td>\n",
       "      <td>PC 17754</td>\n",
       "      <td>34.6542</td>\n",
       "      <td>A5</td>\n",
       "      <td>C</td>\n",
       "    </tr>\n",
       "    <tr>\n",
       "      <th>116</th>\n",
       "      <td>117</td>\n",
       "      <td>0</td>\n",
       "      <td>3</td>\n",
       "      <td>Connors, Mr. Patrick</td>\n",
       "      <td>male</td>\n",
       "      <td>70.5</td>\n",
       "      <td>0</td>\n",
       "      <td>0</td>\n",
       "      <td>370369</td>\n",
       "      <td>7.7500</td>\n",
       "      <td>NaN</td>\n",
       "      <td>Q</td>\n",
       "    </tr>\n",
       "    <tr>\n",
       "      <th>493</th>\n",
       "      <td>494</td>\n",
       "      <td>0</td>\n",
       "      <td>1</td>\n",
       "      <td>Artagaveytia, Mr. Ramon</td>\n",
       "      <td>male</td>\n",
       "      <td>71.0</td>\n",
       "      <td>0</td>\n",
       "      <td>0</td>\n",
       "      <td>PC 17609</td>\n",
       "      <td>49.5042</td>\n",
       "      <td>NaN</td>\n",
       "      <td>C</td>\n",
       "    </tr>\n",
       "    <tr>\n",
       "      <th>630</th>\n",
       "      <td>631</td>\n",
       "      <td>1</td>\n",
       "      <td>1</td>\n",
       "      <td>Barkworth, Mr. Algernon Henry Wilson</td>\n",
       "      <td>male</td>\n",
       "      <td>80.0</td>\n",
       "      <td>0</td>\n",
       "      <td>0</td>\n",
       "      <td>27042</td>\n",
       "      <td>30.0000</td>\n",
       "      <td>A23</td>\n",
       "      <td>S</td>\n",
       "    </tr>\n",
       "    <tr>\n",
       "      <th>672</th>\n",
       "      <td>673</td>\n",
       "      <td>0</td>\n",
       "      <td>2</td>\n",
       "      <td>Mitchell, Mr. Henry Michael</td>\n",
       "      <td>male</td>\n",
       "      <td>70.0</td>\n",
       "      <td>0</td>\n",
       "      <td>0</td>\n",
       "      <td>C.A. 24580</td>\n",
       "      <td>10.5000</td>\n",
       "      <td>NaN</td>\n",
       "      <td>S</td>\n",
       "    </tr>\n",
       "    <tr>\n",
       "      <th>745</th>\n",
       "      <td>746</td>\n",
       "      <td>0</td>\n",
       "      <td>1</td>\n",
       "      <td>Crosby, Capt. Edward Gifford</td>\n",
       "      <td>male</td>\n",
       "      <td>70.0</td>\n",
       "      <td>1</td>\n",
       "      <td>1</td>\n",
       "      <td>WE/P 5735</td>\n",
       "      <td>71.0000</td>\n",
       "      <td>B22</td>\n",
       "      <td>S</td>\n",
       "    </tr>\n",
       "    <tr>\n",
       "      <th>851</th>\n",
       "      <td>852</td>\n",
       "      <td>0</td>\n",
       "      <td>3</td>\n",
       "      <td>Svensson, Mr. Johan</td>\n",
       "      <td>male</td>\n",
       "      <td>74.0</td>\n",
       "      <td>0</td>\n",
       "      <td>0</td>\n",
       "      <td>347060</td>\n",
       "      <td>7.7750</td>\n",
       "      <td>NaN</td>\n",
       "      <td>S</td>\n",
       "    </tr>\n",
       "  </tbody>\n",
       "</table>\n",
       "</div>"
      ],
      "text/plain": [
       "     PassengerId  Survived  Pclass                                  Name  \\\n",
       "33            34         0       2                 Wheadon, Mr. Edward H   \n",
       "96            97         0       1             Goldschmidt, Mr. George B   \n",
       "116          117         0       3                  Connors, Mr. Patrick   \n",
       "493          494         0       1               Artagaveytia, Mr. Ramon   \n",
       "630          631         1       1  Barkworth, Mr. Algernon Henry Wilson   \n",
       "672          673         0       2           Mitchell, Mr. Henry Michael   \n",
       "745          746         0       1          Crosby, Capt. Edward Gifford   \n",
       "851          852         0       3                   Svensson, Mr. Johan   \n",
       "\n",
       "      Sex   Age  SibSp  Parch      Ticket     Fare Cabin Embarked  \n",
       "33   male  66.0      0      0  C.A. 24579  10.5000   NaN        S  \n",
       "96   male  71.0      0      0    PC 17754  34.6542    A5        C  \n",
       "116  male  70.5      0      0      370369   7.7500   NaN        Q  \n",
       "493  male  71.0      0      0    PC 17609  49.5042   NaN        C  \n",
       "630  male  80.0      0      0       27042  30.0000   A23        S  \n",
       "672  male  70.0      0      0  C.A. 24580  10.5000   NaN        S  \n",
       "745  male  70.0      1      1   WE/P 5735  71.0000   B22        S  \n",
       "851  male  74.0      0      0      347060   7.7750   NaN        S  "
      ]
     },
     "execution_count": 23,
     "metadata": {},
     "output_type": "execute_result"
    }
   ],
   "source": [
    "data[data.Age>65]"
   ]
  },
  {
   "cell_type": "markdown",
   "id": "00efa26d",
   "metadata": {},
   "source": [
    "We can see that the majority of the outliers did not survive"
   ]
  },
  {
   "cell_type": "markdown",
   "id": "94793aab",
   "metadata": {},
   "source": [
    "### Measuring the effect of outliers on different machine learning algorithms"
   ]
  },
  {
   "cell_type": "code",
   "execution_count": 27,
   "id": "b015ddc1",
   "metadata": {},
   "outputs": [],
   "source": [
    "from sklearn.linear_model import LogisticRegression\n",
    "from sklearn.ensemble import AdaBoostClassifier\n",
    "from sklearn.ensemble import RandomForestClassifier\n",
    "\n",
    "from sklearn.metrics import roc_auc_score\n",
    "from sklearn.model_selection import train_test_split"
   ]
  },
  {
   "cell_type": "code",
   "execution_count": 28,
   "id": "ea986f3a",
   "metadata": {},
   "outputs": [
    {
     "data": {
      "text/html": [
       "<div>\n",
       "<style scoped>\n",
       "    .dataframe tbody tr th:only-of-type {\n",
       "        vertical-align: middle;\n",
       "    }\n",
       "\n",
       "    .dataframe tbody tr th {\n",
       "        vertical-align: top;\n",
       "    }\n",
       "\n",
       "    .dataframe thead th {\n",
       "        text-align: right;\n",
       "    }\n",
       "</style>\n",
       "<table border=\"1\" class=\"dataframe\">\n",
       "  <thead>\n",
       "    <tr style=\"text-align: right;\">\n",
       "      <th></th>\n",
       "      <th>PassengerId</th>\n",
       "      <th>Survived</th>\n",
       "      <th>Pclass</th>\n",
       "      <th>Name</th>\n",
       "      <th>Sex</th>\n",
       "      <th>Age</th>\n",
       "      <th>SibSp</th>\n",
       "      <th>Parch</th>\n",
       "      <th>Ticket</th>\n",
       "      <th>Fare</th>\n",
       "      <th>Cabin</th>\n",
       "      <th>Embarked</th>\n",
       "    </tr>\n",
       "  </thead>\n",
       "  <tbody>\n",
       "    <tr>\n",
       "      <th>0</th>\n",
       "      <td>1</td>\n",
       "      <td>0</td>\n",
       "      <td>3</td>\n",
       "      <td>Braund, Mr. Owen Harris</td>\n",
       "      <td>male</td>\n",
       "      <td>22.0</td>\n",
       "      <td>1</td>\n",
       "      <td>0</td>\n",
       "      <td>A/5 21171</td>\n",
       "      <td>7.2500</td>\n",
       "      <td>NaN</td>\n",
       "      <td>S</td>\n",
       "    </tr>\n",
       "    <tr>\n",
       "      <th>1</th>\n",
       "      <td>2</td>\n",
       "      <td>1</td>\n",
       "      <td>1</td>\n",
       "      <td>Cumings, Mrs. John Bradley (Florence Briggs Th...</td>\n",
       "      <td>female</td>\n",
       "      <td>38.0</td>\n",
       "      <td>1</td>\n",
       "      <td>0</td>\n",
       "      <td>PC 17599</td>\n",
       "      <td>71.2833</td>\n",
       "      <td>C85</td>\n",
       "      <td>C</td>\n",
       "    </tr>\n",
       "    <tr>\n",
       "      <th>2</th>\n",
       "      <td>3</td>\n",
       "      <td>1</td>\n",
       "      <td>3</td>\n",
       "      <td>Heikkinen, Miss. Laina</td>\n",
       "      <td>female</td>\n",
       "      <td>26.0</td>\n",
       "      <td>0</td>\n",
       "      <td>0</td>\n",
       "      <td>STON/O2. 3101282</td>\n",
       "      <td>7.9250</td>\n",
       "      <td>NaN</td>\n",
       "      <td>S</td>\n",
       "    </tr>\n",
       "    <tr>\n",
       "      <th>3</th>\n",
       "      <td>4</td>\n",
       "      <td>1</td>\n",
       "      <td>1</td>\n",
       "      <td>Futrelle, Mrs. Jacques Heath (Lily May Peel)</td>\n",
       "      <td>female</td>\n",
       "      <td>35.0</td>\n",
       "      <td>1</td>\n",
       "      <td>0</td>\n",
       "      <td>113803</td>\n",
       "      <td>53.1000</td>\n",
       "      <td>C123</td>\n",
       "      <td>S</td>\n",
       "    </tr>\n",
       "    <tr>\n",
       "      <th>4</th>\n",
       "      <td>5</td>\n",
       "      <td>0</td>\n",
       "      <td>3</td>\n",
       "      <td>Allen, Mr. William Henry</td>\n",
       "      <td>male</td>\n",
       "      <td>35.0</td>\n",
       "      <td>0</td>\n",
       "      <td>0</td>\n",
       "      <td>373450</td>\n",
       "      <td>8.0500</td>\n",
       "      <td>NaN</td>\n",
       "      <td>S</td>\n",
       "    </tr>\n",
       "  </tbody>\n",
       "</table>\n",
       "</div>"
      ],
      "text/plain": [
       "   PassengerId  Survived  Pclass  \\\n",
       "0            1         0       3   \n",
       "1            2         1       1   \n",
       "2            3         1       3   \n",
       "3            4         1       1   \n",
       "4            5         0       3   \n",
       "\n",
       "                                                Name     Sex   Age  SibSp  \\\n",
       "0                            Braund, Mr. Owen Harris    male  22.0      1   \n",
       "1  Cumings, Mrs. John Bradley (Florence Briggs Th...  female  38.0      1   \n",
       "2                             Heikkinen, Miss. Laina  female  26.0      0   \n",
       "3       Futrelle, Mrs. Jacques Heath (Lily May Peel)  female  35.0      1   \n",
       "4                           Allen, Mr. William Henry    male  35.0      0   \n",
       "\n",
       "   Parch            Ticket     Fare Cabin Embarked  \n",
       "0      0         A/5 21171   7.2500   NaN        S  \n",
       "1      0          PC 17599  71.2833   C85        C  \n",
       "2      0  STON/O2. 3101282   7.9250   NaN        S  \n",
       "3      0            113803  53.1000  C123        S  \n",
       "4      0            373450   8.0500   NaN        S  "
      ]
     },
     "execution_count": 28,
     "metadata": {},
     "output_type": "execute_result"
    }
   ],
   "source": [
    "data=pd.read_csv('train.csv')\n",
    "data.head()"
   ]
  },
  {
   "cell_type": "code",
   "execution_count": 29,
   "id": "078fbe4e",
   "metadata": {},
   "outputs": [
    {
     "data": {
      "text/plain": [
       "Age     0.198653\n",
       "Fare    0.000000\n",
       "dtype: float64"
      ]
     },
     "execution_count": 29,
     "metadata": {},
     "output_type": "execute_result"
    }
   ],
   "source": [
    "data[['Age', 'Fare']].isnull().mean()"
   ]
  },
  {
   "cell_type": "markdown",
   "id": "8c4d017c",
   "metadata": {},
   "source": [
    "Age contains 20 % of missing data. For simplicity, I will fill the missing values with 0."
   ]
  },
  {
   "cell_type": "code",
   "execution_count": 30,
   "id": "d31daa54",
   "metadata": {},
   "outputs": [
    {
     "data": {
      "text/plain": [
       "((623, 2), (268, 2))"
      ]
     },
     "execution_count": 30,
     "metadata": {},
     "output_type": "execute_result"
    }
   ],
   "source": [
    "X_train, X_test, y_train, y_test = train_test_split(\n",
    "    data[['Age', 'Fare']].fillna(0),\n",
    "    data.Survived,\n",
    "    test_size=0.3,\n",
    "    random_state=0)\n",
    "\n",
    "X_train.shape, X_test.shape"
   ]
  },
  {
   "cell_type": "code",
   "execution_count": 33,
   "id": "2ac5bcc7",
   "metadata": {},
   "outputs": [],
   "source": [
    "data_clean = data.copy()\n",
    "data_clean.loc[data_clean.Age>=73,'Age']=73\n",
    "data_clean.loc[data_clean.Age>100,'Fare']=100\n",
    "\n",
    "X_train_clean, X_test_clean, y_train_clean, y_test_clean = train_test_split(\n",
    "    data_clean[['Age', 'Fare']].fillna(0),\n",
    "    data_clean.Survived,\n",
    "    test_size=0.3,\n",
    "    random_state=0)"
   ]
  },
  {
   "cell_type": "markdown",
   "id": "2f016b59",
   "metadata": {},
   "source": [
    "### Outlier effect on Logistic Regression"
   ]
  },
  {
   "cell_type": "code",
   "execution_count": 36,
   "id": "47a8963f",
   "metadata": {},
   "outputs": [
    {
     "name": "stdout",
     "output_type": "stream",
     "text": [
      "LogReg Accuracy: 0.6940298507462687\n",
      "LogReg roc-auc: 0.71375\n"
     ]
    }
   ],
   "source": [
    "from sklearn.linear_model import LogisticRegression\n",
    "from sklearn.metrics import roc_auc_score\n",
    "\n",
    "# Initialize the Logistic Regression model\n",
    "logit = LogisticRegression(random_state=44)\n",
    "\n",
    "# Fit the model on the training data\n",
    "logit.fit(X_train, y_train)\n",
    "\n",
    "# Predict the probabilities on the test data\n",
    "pred = logit.predict_proba(X_test)\n",
    "\n",
    "# Print the accuracy and roc-auc score\n",
    "print('LogReg Accuracy: {}'.format(logit.score(X_test, y_test)))\n",
    "print('LogReg roc-auc: {}'.format(roc_auc_score(y_test, pred[:, 1])))\n"
   ]
  },
  {
   "cell_type": "code",
   "execution_count": 38,
   "id": "fc811707",
   "metadata": {},
   "outputs": [
    {
     "name": "stdout",
     "output_type": "stream",
     "text": [
      "LogReg Accuracy: 0.6940298507462687\n",
      "LogReg roc-auc: 0.7136904761904761\n"
     ]
    }
   ],
   "source": [
    "# model build on data without outliers\n",
    "\n",
    "# call model\n",
    "logit = LogisticRegression(random_state=44)\n",
    "\n",
    "# train\n",
    "logit.fit(X_train_clean, y_train_clean)\n",
    "\n",
    "# make prediction on test set\n",
    "pred = logit.predict_proba(X_test_clean)\n",
    "\n",
    "print('LogReg Accuracy: {}'.format(logit.score(X_test_clean, y_test_clean)))\n",
    "print('LogReg roc-auc: {}'.format(roc_auc_score(y_test_clean, pred[:, 1])))"
   ]
  },
  {
   "cell_type": "markdown",
   "id": "5eabe6eb",
   "metadata": {},
   "source": [
    "Outliers did not seem to have a big impact in the performance of Logistic regression."
   ]
  },
  {
   "cell_type": "markdown",
   "id": "184e7355",
   "metadata": {},
   "source": [
    "## Outlier Effect on Adaboost"
   ]
  },
  {
   "cell_type": "code",
   "execution_count": 40,
   "id": "aea91e5b",
   "metadata": {},
   "outputs": [
    {
     "name": "stdout",
     "output_type": "stream",
     "text": [
      "AdaBoost Accuracy: 0.7164179104477612\n",
      "AdaBoost roc-auc: 0.7429464285714286\n"
     ]
    }
   ],
   "source": [
    "ada= AdaBoostClassifier(n_estimators=200, random_state=44)\n",
    "ada.fit(X_train_clean,y_train_clean)\n",
    "pred = ada.predict_proba(X_test_clean)\n",
    "\n",
    "print('AdaBoost Accuracy: {}'.format(ada.score(X_test_clean, y_test_clean)))\n",
    "print('AdaBoost roc-auc: {}'.format(roc_auc_score(y_test_clean, pred[:,1])))"
   ]
  },
  {
   "cell_type": "markdown",
   "id": "7cf9abb7",
   "metadata": {},
   "source": [
    "On the other hand, we can see how removing outliers improves the performance of Adaboost: 0.742 vs 0.71 roc-auc."
   ]
  },
  {
   "cell_type": "markdown",
   "id": "9641c52e",
   "metadata": {},
   "source": [
    "## Outlier Effect on Random Forests"
   ]
  },
  {
   "cell_type": "code",
   "execution_count": 41,
   "id": "5b71a9ae",
   "metadata": {},
   "outputs": [
    {
     "name": "stdout",
     "output_type": "stream",
     "text": [
      "Random Forests Accuracy: 0.7089552238805971\n",
      "Random Forests roc-auc: 0.732827380952381\n"
     ]
    }
   ],
   "source": [
    "rf = RandomForestClassifier(n_estimators=200, random_state=39)\n",
    "\n",
    "# train model\n",
    "rf.fit(X_train, y_train)\n",
    "\n",
    "# make predictions\n",
    "pred = rf.predict_proba(X_test)\n",
    "\n",
    "print('Random Forests Accuracy: {}'.format(rf.score(X_test, y_test)))\n",
    "print('Random Forests roc-auc: {}'.format(roc_auc_score(y_test, pred[:, 1])))"
   ]
  },
  {
   "cell_type": "code",
   "execution_count": 42,
   "id": "9d03b380",
   "metadata": {},
   "outputs": [
    {
     "name": "stdout",
     "output_type": "stream",
     "text": [
      "Random Forests Accuracy: 0.7052238805970149\n",
      "Random Forests roc-auc: 0.732470238095238\n"
     ]
    }
   ],
   "source": [
    "# model built on data without outliers\n",
    "\n",
    "# call model\n",
    "rf = RandomForestClassifier(n_estimators=200, random_state=39)\n",
    "\n",
    "# train model\n",
    "rf.fit(X_train_clean, y_train_clean)\n",
    "\n",
    "# make predictions\n",
    "pred = rf.predict_proba(X_test_clean)\n",
    "\n",
    "print('Random Forests Accuracy: {}'.format(rf.score(X_test_clean, y_test_clean)))\n",
    "print('Random Forests roc-auc: {}'.format(roc_auc_score(y_test_clean, pred[:,1])))"
   ]
  },
  {
   "cell_type": "markdown",
   "id": "fa50243c",
   "metadata": {},
   "source": [
    "As expected, Random Forests do not benefit from removing outliers from the dataset."
   ]
  },
  {
   "cell_type": "markdown",
   "id": "09bcc55d",
   "metadata": {},
   "source": [
    "### Conclusion:\n",
    "\n",
    "We can see that the presence of outliers affects the performance of AdaBoost, and when outliers are removed the roc-auc improved by 0.03.\n",
    "\n",
    "Logistic Regression's and Random Forests performances seemed unaffected by outliers."
   ]
  }
 ],
 "metadata": {
  "kernelspec": {
   "display_name": "Python 3 (ipykernel)",
   "language": "python",
   "name": "python3"
  },
  "language_info": {
   "codemirror_mode": {
    "name": "ipython",
    "version": 3
   },
   "file_extension": ".py",
   "mimetype": "text/x-python",
   "name": "python",
   "nbconvert_exporter": "python",
   "pygments_lexer": "ipython3",
   "version": "3.9.7"
  }
 },
 "nbformat": 4,
 "nbformat_minor": 5
}
